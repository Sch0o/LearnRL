{
 "cells": [
  {
   "cell_type": "code",
   "id": "initial_id",
   "metadata": {
    "collapsed": true,
    "ExecuteTime": {
     "end_time": "2025-03-04T13:40:38.961765Z",
     "start_time": "2025-03-04T13:40:37.194618Z"
    }
   },
   "source": [
    "import gymnasium as gym\n",
    "\n",
    "\n",
    "class MyWrapper(gym.Wrapper):\n",
    "    def __init__(self):\n",
    "        env = gym.make('CartPole-v1', render_mode='rgb_array')\n",
    "        super().__init__(env)\n",
    "        self.env = env\n",
    "        self.step_n = 0\n",
    "\n",
    "    def reset(self):\n",
    "        state, _ = self.env.reset()\n",
    "        self.step_n = 0\n",
    "        return state\n",
    "\n",
    "    def step(self, action):\n",
    "        state, reward, terminated, truncated, info = self.env.step(action)\n",
    "        done = terminated or truncated\n",
    "        self.step_n += 1\n",
    "        if self.step_n >= 200:\n",
    "            done = True\n",
    "        return state, reward, done, info\n",
    "\n",
    "\n",
    "env = MyWrapper()\n",
    "env.reset()"
   ],
   "outputs": [
    {
     "data": {
      "text/plain": [
       "array([-0.02780182, -0.01095542, -0.03379848, -0.00699443], dtype=float32)"
      ]
     },
     "execution_count": 1,
     "metadata": {},
     "output_type": "execute_result"
    }
   ],
   "execution_count": 1
  },
  {
   "metadata": {
    "ExecuteTime": {
     "end_time": "2025-03-04T13:41:31.301531Z",
     "start_time": "2025-03-04T13:41:28.330207Z"
    }
   },
   "cell_type": "code",
   "source": [
    "import  torch\n",
    "actor_model = torch.nn.Sequential(\n",
    "    torch.nn.Linear(4, 128),\n",
    "    torch.nn.ReLU(),\n",
    "    torch.nn.Linear(128, 2),\n",
    "    torch.nn.Softmax(dim=1),\n",
    ")\n",
    "critic_model = torch.nn.Sequential(\n",
    "    torch.nn.Linear(4, 128),\n",
    "    torch.nn.ReLU(),\n",
    "    torch.nn.Linear(128, 1),\n",
    ")\n",
    "actor_model(torch.randn((2,4))),critic_model(torch.randn((2,4)))"
   ],
   "id": "98fcd0b40526c43c",
   "outputs": [
    {
     "data": {
      "text/plain": [
       "(tensor([[0.4731, 0.5269],\n",
       "         [0.5060, 0.4940]], grad_fn=<SoftmaxBackward0>),\n",
       " tensor([[-0.1387],\n",
       "         [-0.1858]], grad_fn=<AddmmBackward0>))"
      ]
     },
     "execution_count": 2,
     "metadata": {},
     "output_type": "execute_result"
    }
   ],
   "execution_count": 2
  },
  {
   "metadata": {
    "ExecuteTime": {
     "end_time": "2025-03-04T13:42:36.876712Z",
     "start_time": "2025-03-04T13:42:36.850848Z"
    }
   },
   "cell_type": "code",
   "source": [
    "import random\n",
    "def get_action(state):\n",
    "    state=torch.FloatTensor(state).reshape(1,4)\n",
    "    probs = actor_model(state)\n",
    "    action=random.choices(range(2), weights=probs[0].tolist(),k=1)[0]\n",
    "    return action\n",
    "get_action([1,2,3,4])"
   ],
   "id": "fce5e58ba51b866f",
   "outputs": [
    {
     "data": {
      "text/plain": [
       "1"
      ]
     },
     "execution_count": 3,
     "metadata": {},
     "output_type": "execute_result"
    }
   ],
   "execution_count": 3
  },
  {
   "metadata": {
    "ExecuteTime": {
     "end_time": "2025-03-04T13:42:39.872183Z",
     "start_time": "2025-03-04T13:42:39.849598Z"
    }
   },
   "cell_type": "code",
   "source": [
    "def get_oneGame_data():\n",
    "    states=[]\n",
    "    next_states=[]\n",
    "    actions=[]\n",
    "    rewards=[]\n",
    "    overs=[]\n",
    "    state=env.reset()\n",
    "    over=False\n",
    "    while not over:\n",
    "        action=get_action(state)\n",
    "        next_state,reward,over,_=env.step(action)\n",
    "        states.append(state)\n",
    "        rewards.append(reward)\n",
    "        actions.append(action)\n",
    "        overs.append(over)\n",
    "        next_states.append(next_state)\n",
    "        \n",
    "        state=next_state\n",
    "        \n",
    "    states = torch.tensor(states, dtype=torch.float)\n",
    "    actions = torch.tensor(actions, dtype=torch.long).reshape(-1,1)\n",
    "    rewards = torch.tensor(rewards, dtype=torch.float).reshape(-1,1)\n",
    "    next_states = torch.tensor(next_states,dtype=torch.float)\n",
    "    overs = torch.tensor(overs,dtype=torch.long).reshape(-1,1)\n",
    "\n",
    "    return states, rewards, actions, next_states, overs\n",
    "\n",
    "get_oneGame_data()"
   ],
   "id": "b5b6c2141c962969",
   "outputs": [
    {
     "name": "stderr",
     "output_type": "stream",
     "text": [
      "C:\\Users\\schoo\\AppData\\Local\\Temp\\ipykernel_35452\\2223797241.py:20: UserWarning: Creating a tensor from a list of numpy.ndarrays is extremely slow. Please consider converting the list to a single numpy.ndarray with numpy.array() before converting to a tensor. (Triggered internally at C:\\actions-runner\\_work\\pytorch\\pytorch\\pytorch\\torch\\csrc\\utils\\tensor_new.cpp:257.)\n",
      "  states = torch.tensor(states, dtype=torch.float)\n"
     ]
    },
    {
     "data": {
      "text/plain": [
       "(tensor([[ 2.6506e-02, -1.9506e-02, -4.2783e-02, -1.3262e-02],\n",
       "         [ 2.6116e-02,  1.7620e-01, -4.3048e-02, -3.1913e-01],\n",
       "         [ 2.9640e-02,  3.7191e-01, -4.9430e-02, -6.2507e-01],\n",
       "         [ 3.7078e-02,  1.7751e-01, -6.1932e-02, -3.4836e-01],\n",
       "         [ 4.0629e-02, -1.6677e-02, -6.8899e-02, -7.5829e-02],\n",
       "         [ 4.0295e-02, -2.1075e-01, -7.0416e-02,  1.9434e-01],\n",
       "         [ 3.6080e-02, -1.4692e-02, -6.6529e-02, -1.1969e-01],\n",
       "         [ 3.5786e-02, -2.0880e-01, -6.8923e-02,  1.5128e-01],\n",
       "         [ 3.1610e-02, -1.2763e-02, -6.5897e-02, -1.6233e-01],\n",
       "         [ 3.1355e-02, -2.0688e-01, -6.9143e-02,  1.0886e-01],\n",
       "         [ 2.7217e-02, -4.0095e-01, -6.6966e-02,  3.7895e-01],\n",
       "         [ 1.9198e-02, -2.0494e-01, -5.9387e-02,  6.5932e-02],\n",
       "         [ 1.5100e-02, -3.9917e-01, -5.8068e-02,  3.3930e-01],\n",
       "         [ 7.1162e-03, -2.0327e-01, -5.1282e-02,  2.8888e-02],\n",
       "         [ 3.0508e-03, -7.4497e-03, -5.0705e-02, -2.7952e-01],\n",
       "         [ 2.9018e-03, -2.0181e-01, -5.6295e-02, -3.2545e-03],\n",
       "         [-1.1344e-03, -3.9608e-01, -5.6360e-02,  2.7115e-01],\n",
       "         [-9.0561e-03, -2.0021e-01, -5.0937e-02, -3.8764e-02],\n",
       "         [-1.3060e-02, -4.3914e-03, -5.1713e-02, -3.4707e-01],\n",
       "         [-1.3148e-02,  1.9143e-01, -5.8654e-02, -6.5560e-01],\n",
       "         [-9.3195e-03, -2.8319e-03, -7.1766e-02, -3.8195e-01],\n",
       "         [-9.3762e-03,  1.9323e-01, -7.9405e-02, -6.9637e-01],\n",
       "         [-5.5115e-03, -7.0441e-04, -9.3333e-02, -4.2970e-01],\n",
       "         [-5.5256e-03,  1.9561e-01, -1.0193e-01, -7.5029e-01],\n",
       "         [-1.6135e-03,  3.9198e-01, -1.1693e-01, -1.0732e+00],\n",
       "         [ 6.2260e-03,  1.9858e-01, -1.3840e-01, -8.1941e-01],\n",
       "         [ 1.0198e-02,  3.9529e-01, -1.5479e-01, -1.1522e+00],\n",
       "         [ 1.8103e-02,  2.0249e-01, -1.7783e-01, -9.1181e-01],\n",
       "         [ 2.2153e-02,  3.9952e-01, -1.9607e-01, -1.2547e+00]]),\n",
       " tensor([[1.],\n",
       "         [1.],\n",
       "         [1.],\n",
       "         [1.],\n",
       "         [1.],\n",
       "         [1.],\n",
       "         [1.],\n",
       "         [1.],\n",
       "         [1.],\n",
       "         [1.],\n",
       "         [1.],\n",
       "         [1.],\n",
       "         [1.],\n",
       "         [1.],\n",
       "         [1.],\n",
       "         [1.],\n",
       "         [1.],\n",
       "         [1.],\n",
       "         [1.],\n",
       "         [1.],\n",
       "         [1.],\n",
       "         [1.],\n",
       "         [1.],\n",
       "         [1.],\n",
       "         [1.],\n",
       "         [1.],\n",
       "         [1.],\n",
       "         [1.],\n",
       "         [1.]]),\n",
       " tensor([[1],\n",
       "         [1],\n",
       "         [0],\n",
       "         [0],\n",
       "         [0],\n",
       "         [1],\n",
       "         [0],\n",
       "         [1],\n",
       "         [0],\n",
       "         [0],\n",
       "         [1],\n",
       "         [0],\n",
       "         [1],\n",
       "         [1],\n",
       "         [0],\n",
       "         [0],\n",
       "         [1],\n",
       "         [1],\n",
       "         [1],\n",
       "         [0],\n",
       "         [1],\n",
       "         [0],\n",
       "         [1],\n",
       "         [1],\n",
       "         [0],\n",
       "         [1],\n",
       "         [0],\n",
       "         [1],\n",
       "         [1]]),\n",
       " tensor([[ 2.6116e-02,  1.7620e-01, -4.3048e-02, -3.1913e-01],\n",
       "         [ 2.9640e-02,  3.7191e-01, -4.9430e-02, -6.2507e-01],\n",
       "         [ 3.7078e-02,  1.7751e-01, -6.1932e-02, -3.4836e-01],\n",
       "         [ 4.0629e-02, -1.6677e-02, -6.8899e-02, -7.5829e-02],\n",
       "         [ 4.0295e-02, -2.1075e-01, -7.0416e-02,  1.9434e-01],\n",
       "         [ 3.6080e-02, -1.4692e-02, -6.6529e-02, -1.1969e-01],\n",
       "         [ 3.5786e-02, -2.0880e-01, -6.8923e-02,  1.5128e-01],\n",
       "         [ 3.1610e-02, -1.2763e-02, -6.5897e-02, -1.6233e-01],\n",
       "         [ 3.1355e-02, -2.0688e-01, -6.9143e-02,  1.0886e-01],\n",
       "         [ 2.7217e-02, -4.0095e-01, -6.6966e-02,  3.7895e-01],\n",
       "         [ 1.9198e-02, -2.0494e-01, -5.9387e-02,  6.5932e-02],\n",
       "         [ 1.5100e-02, -3.9917e-01, -5.8068e-02,  3.3930e-01],\n",
       "         [ 7.1162e-03, -2.0327e-01, -5.1282e-02,  2.8888e-02],\n",
       "         [ 3.0508e-03, -7.4497e-03, -5.0705e-02, -2.7952e-01],\n",
       "         [ 2.9018e-03, -2.0181e-01, -5.6295e-02, -3.2545e-03],\n",
       "         [-1.1344e-03, -3.9608e-01, -5.6360e-02,  2.7115e-01],\n",
       "         [-9.0561e-03, -2.0021e-01, -5.0937e-02, -3.8764e-02],\n",
       "         [-1.3060e-02, -4.3914e-03, -5.1713e-02, -3.4707e-01],\n",
       "         [-1.3148e-02,  1.9143e-01, -5.8654e-02, -6.5560e-01],\n",
       "         [-9.3195e-03, -2.8319e-03, -7.1766e-02, -3.8195e-01],\n",
       "         [-9.3762e-03,  1.9323e-01, -7.9405e-02, -6.9637e-01],\n",
       "         [-5.5115e-03, -7.0441e-04, -9.3333e-02, -4.2970e-01],\n",
       "         [-5.5256e-03,  1.9561e-01, -1.0193e-01, -7.5029e-01],\n",
       "         [-1.6135e-03,  3.9198e-01, -1.1693e-01, -1.0732e+00],\n",
       "         [ 6.2260e-03,  1.9858e-01, -1.3840e-01, -8.1941e-01],\n",
       "         [ 1.0198e-02,  3.9529e-01, -1.5479e-01, -1.1522e+00],\n",
       "         [ 1.8103e-02,  2.0249e-01, -1.7783e-01, -9.1181e-01],\n",
       "         [ 2.2153e-02,  3.9952e-01, -1.9607e-01, -1.2547e+00],\n",
       "         [ 3.0144e-02,  5.9653e-01, -2.2116e-01, -1.6018e+00]]),\n",
       " tensor([[0],\n",
       "         [0],\n",
       "         [0],\n",
       "         [0],\n",
       "         [0],\n",
       "         [0],\n",
       "         [0],\n",
       "         [0],\n",
       "         [0],\n",
       "         [0],\n",
       "         [0],\n",
       "         [0],\n",
       "         [0],\n",
       "         [0],\n",
       "         [0],\n",
       "         [0],\n",
       "         [0],\n",
       "         [0],\n",
       "         [0],\n",
       "         [0],\n",
       "         [0],\n",
       "         [0],\n",
       "         [0],\n",
       "         [0],\n",
       "         [0],\n",
       "         [0],\n",
       "         [0],\n",
       "         [0],\n",
       "         [1]]))"
      ]
     },
     "execution_count": 4,
     "metadata": {},
     "output_type": "execute_result"
    }
   ],
   "execution_count": 4
  },
  {
   "metadata": {
    "ExecuteTime": {
     "end_time": "2025-03-04T14:19:55.978817Z",
     "start_time": "2025-03-04T14:19:55.965577Z"
    }
   },
   "cell_type": "code",
   "source": [
    "def test():\n",
    "    state=env.reset()\n",
    "    reward_sum=0\n",
    "    over=False\n",
    "    while not over:\n",
    "        action=get_action(state)\n",
    "        next_state,reward,over,_=env.step(action)\n",
    "        state=next_state\n",
    "        reward_sum+=reward\n",
    "    return reward_sum\n",
    "test()"
   ],
   "id": "77319019f2e2064",
   "outputs": [
    {
     "data": {
      "text/plain": [
       "31.0"
      ]
     },
     "execution_count": 6,
     "metadata": {},
     "output_type": "execute_result"
    }
   ],
   "execution_count": 6
  },
  {
   "metadata": {
    "ExecuteTime": {
     "end_time": "2025-03-04T14:24:05.022440Z",
     "start_time": "2025-03-04T14:24:05.015996Z"
    }
   },
   "cell_type": "code",
   "source": [
    "def GAE(deltas):\n",
    "    advantages = []\n",
    "    s=0.0\n",
    "    for delta in deltas[::-1]:\n",
    "        s=0.98*0.95*s+delta\n",
    "        advantages.append(s)\n",
    "    advantages.reverse()\n",
    "    return advantages\n",
    "GAE(deltas=[1,2,3,4])"
   ],
   "id": "7ed4e27f35535da2",
   "outputs": [
    {
     "data": {
      "text/plain": [
       "[8.690100963999999, 8.260044, 6.724, 4.0]"
      ]
     },
     "execution_count": 9,
     "metadata": {},
     "output_type": "execute_result"
    }
   ],
   "execution_count": 9
  },
  {
   "metadata": {
    "ExecuteTime": {
     "end_time": "2025-03-04T14:31:15.034894Z",
     "start_time": "2025-03-04T14:31:15.021906Z"
    }
   },
   "cell_type": "code",
   "source": [
    "def train():\n",
    "    optimizer = torch.optim.Adam(actor_model.parameters(), lr=1e-3)\n",
    "    optimizer_c=torch.optim.Adam(critic_model.parameters(), lr=1e-2)\n",
    "    loss_fc=torch.nn.MSELoss()\n",
    "    \n",
    "    for epoch in range(1000):\n",
    "        states, rewards, actions, next_states, overs=get_oneGame_data()\n",
    "        \n",
    "        #cirtic\n",
    "        values=critic_model(states)\n",
    "        target=rewards+(1-overs)*0.98*critic_model(next_states).detach()\n",
    "        \n",
    "        #计算优势\n",
    "        deltas=(target-values).squeeze(dim=1).tolist()\n",
    "        advantages=GAE(deltas)\n",
    "        advantages=torch.tensor(advantages, dtype=torch.float).reshape(-1,1)\n",
    "        \n",
    "        old_probs = actor_model(states)\n",
    "        old_probs = old_probs.gather(dim=1, index=actions)\n",
    "        old_probs = old_probs.detach()\n",
    "        \n",
    "        for _ in range(10):\n",
    "            new_probs=actor_model(states)\n",
    "            new_probs=new_probs.gather(dim=1, index=actions)\n",
    "            \n",
    "            ratios=new_probs/old_probs\n",
    "            surr1 = ratios * advantages\n",
    "            surr2 = torch.clamp(ratios, 0.8, 1.2) * advantages\n",
    "\n",
    "            loss = -torch.min(surr1, surr2)\n",
    "            loss = loss.mean()\n",
    "            \n",
    "            values=critic_model(states)\n",
    "            loss_c=loss_fc(values,target)\n",
    "            \n",
    "            optimizer_c.zero_grad()\n",
    "            loss_c.backward()\n",
    "            optimizer_c.step()\n",
    "            \n",
    "            optimizer.zero_grad()\n",
    "            loss.backward()\n",
    "            optimizer.step()\n",
    "            \n",
    "        if (epoch+1) % 100 == 0:\n",
    "            test_result=sum([test() for _ in range(10) ])/10\n",
    "            print('epoch:',epoch,'test_result:',test_result)\n",
    "        \n",
    "train() "
   ],
   "id": "7d858abc0f499cbd",
   "outputs": [
    {
     "name": "stdout",
     "output_type": "stream",
     "text": [
      "[1.0160866975784302, 0.9789121747016907, 0.9819928407669067, 1.0150607824325562, 1.0157073736190796, 1.0107085704803467, 1.001929759979248, 0.9951879978179932, 0.9818902015686035, 1.0108790397644043, 0.9836628437042236, 1.0116976499557495, 1.002530813217163, 0.9956793785095215, 1.0108733177185059, 0.9944018721580505, 1.0121004581451416, 1.0079628229141235, 0.9837712049484253]\n"
     ]
    }
   ],
   "execution_count": 15
  },
  {
   "metadata": {},
   "cell_type": "code",
   "outputs": [],
   "execution_count": null,
   "source": "",
   "id": "4c4efe74ba42beb2"
  }
 ],
 "metadata": {
  "kernelspec": {
   "display_name": "Python 3",
   "language": "python",
   "name": "python3"
  },
  "language_info": {
   "codemirror_mode": {
    "name": "ipython",
    "version": 2
   },
   "file_extension": ".py",
   "mimetype": "text/x-python",
   "name": "python",
   "nbconvert_exporter": "python",
   "pygments_lexer": "ipython2",
   "version": "2.7.6"
  }
 },
 "nbformat": 4,
 "nbformat_minor": 5
}
