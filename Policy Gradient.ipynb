{
 "cells": [
  {
   "cell_type": "code",
   "id": "initial_id",
   "metadata": {
    "collapsed": true,
    "ExecuteTime": {
     "end_time": "2025-03-03T12:51:01.247292Z",
     "start_time": "2025-03-03T12:51:01.228108Z"
    }
   },
   "source": [
    "import gymnasium as gym\n",
    "\n",
    "\n",
    "class MyWrapper(gym.Wrapper):\n",
    "    def __init__(self):\n",
    "        env = gym.make('CartPole-v1', render_mode='rgb_array')\n",
    "        super().__init__(env)\n",
    "        self.env = env\n",
    "        self.step_n = 0\n",
    "\n",
    "    def reset(self):\n",
    "        state, _ = self.env.reset()\n",
    "        self.step_n = 0\n",
    "        return state\n",
    "\n",
    "    def step(self, action):\n",
    "        state, reward, terminated, truncated, info = self.env.step(action)\n",
    "        done = terminated or truncated\n",
    "        self.step_n += 1\n",
    "        if self.step_n >= 200:\n",
    "            done = True\n",
    "        return state, reward, done, info\n",
    "\n",
    "\n",
    "env = MyWrapper()\n",
    "env.reset()"
   ],
   "outputs": [
    {
     "data": {
      "text/plain": [
       "array([ 0.01178736,  0.04867173, -0.01777672,  0.03269818], dtype=float32)"
      ]
     },
     "execution_count": 17,
     "metadata": {},
     "output_type": "execute_result"
    }
   ],
   "execution_count": 17
  },
  {
   "metadata": {
    "ExecuteTime": {
     "end_time": "2025-03-03T12:51:01.263234Z",
     "start_time": "2025-03-03T12:51:01.248287Z"
    }
   },
   "cell_type": "code",
   "source": [
    "import torch\n",
    "model = torch.nn.Sequential(\n",
    "    torch.nn.Linear(4, 128),\n",
    "    torch.nn.ReLU(),\n",
    "    torch.nn.Linear(128, 2),\n",
    "    torch.nn.Softmax(dim=1),\n",
    ")"
   ],
   "id": "57bdeb81da43b236",
   "outputs": [],
   "execution_count": 18
  },
  {
   "metadata": {
    "ExecuteTime": {
     "end_time": "2025-03-03T12:51:01.278884Z",
     "start_time": "2025-03-03T12:51:01.264231Z"
    }
   },
   "cell_type": "code",
   "source": [
    "import random\n",
    "def get_action(state):\n",
    "    state=torch.FloatTensor(state).reshape(1,4)\n",
    "    probs = model(state)\n",
    "    action=random.choices(range(2), weights=probs[0].tolist(),k=1)[0]\n",
    "    return action"
   ],
   "id": "1eb4fedfc349a8da",
   "outputs": [],
   "execution_count": 19
  },
  {
   "metadata": {
    "ExecuteTime": {
     "end_time": "2025-03-03T12:51:01.294862Z",
     "start_time": "2025-03-03T12:51:01.279922Z"
    }
   },
   "cell_type": "code",
   "source": [
    "def get_oneGame_data():\n",
    "    states=[]\n",
    "    rewards=[]\n",
    "    actions=[]\n",
    "    \n",
    "    state=env.reset()\n",
    "    over=False\n",
    "    while not over:\n",
    "        action=get_action(state)\n",
    "        next_state,reward,over,_=env.step(action)\n",
    "        \n",
    "        states.append(state)\n",
    "        rewards.append(reward)\n",
    "        actions.append(action)\n",
    "        \n",
    "        state=next_state\n",
    "    return states,rewards,actions"
   ],
   "id": "107cdd04ac18434b",
   "outputs": [
    {
     "data": {
      "text/plain": [
       "([array([-0.04920211, -0.02577092, -0.02133037,  0.02168001], dtype=float32),\n",
       "  array([-0.04971753, -0.22058058, -0.02089677,  0.30755737], dtype=float32),\n",
       "  array([-0.05412914, -0.41539863, -0.01474562,  0.59357744], dtype=float32),\n",
       "  array([-0.06243711, -0.22007342, -0.00287407,  0.2962864 ], dtype=float32),\n",
       "  array([-0.06683858, -0.41515428,  0.00305166,  0.5880615 ], dtype=float32),\n",
       "  array([-0.07514167, -0.61031884,  0.01481289,  0.88170415], dtype=float32),\n",
       "  array([-0.08734804, -0.4154012 ,  0.03244697,  0.5937146 ], dtype=float32),\n",
       "  array([-0.09565607, -0.6109619 ,  0.04432127,  0.8964391 ], dtype=float32),\n",
       "  array([-0.1078753 , -0.41646796,  0.06225005,  0.6180108 ], dtype=float32),\n",
       "  array([-0.11620466, -0.22226828,  0.07461026,  0.3455652 ], dtype=float32),\n",
       "  array([-0.12065003, -0.02828257,  0.08152157,  0.07731123], dtype=float32),\n",
       "  array([-0.12121568, -0.22447282,  0.08306779,  0.39456007], dtype=float32),\n",
       "  array([-0.12570514, -0.4206692 ,  0.09095899,  0.7122337 ], dtype=float32),\n",
       "  array([-0.13411853, -0.616925  ,  0.10520367,  1.0321056 ], dtype=float32),\n",
       "  array([-0.14645702, -0.81327707,  0.12584578,  1.3558781 ], dtype=float32),\n",
       "  array([-0.16272256, -0.6199387 ,  0.15296334,  1.105065  ], dtype=float32),\n",
       "  array([-0.17512134, -0.8167045 ,  0.17506464,  1.4415636 ], dtype=float32),\n",
       "  array([-0.19145542, -1.0134962 ,  0.20389591,  1.7834458 ], dtype=float32)],\n",
       " [1.0,\n",
       "  1.0,\n",
       "  1.0,\n",
       "  1.0,\n",
       "  1.0,\n",
       "  1.0,\n",
       "  1.0,\n",
       "  1.0,\n",
       "  1.0,\n",
       "  1.0,\n",
       "  1.0,\n",
       "  1.0,\n",
       "  1.0,\n",
       "  1.0,\n",
       "  1.0,\n",
       "  1.0,\n",
       "  1.0,\n",
       "  1.0],\n",
       " [0, 0, 1, 0, 0, 1, 0, 1, 1, 1, 0, 0, 0, 0, 1, 0, 0, 1])"
      ]
     },
     "execution_count": 20,
     "metadata": {},
     "output_type": "execute_result"
    }
   ],
   "execution_count": 20
  },
  {
   "metadata": {
    "ExecuteTime": {
     "end_time": "2025-03-03T12:53:04.382830Z",
     "start_time": "2025-03-03T12:53:04.361553Z"
    }
   },
   "cell_type": "code",
   "source": [
    "def test():\n",
    "    state=env.reset()\n",
    "    reward_sum=0\n",
    "    over=False\n",
    "    while not over:\n",
    "        action=get_action(state)\n",
    "        next_state,reward,over,_=env.step(action)\n",
    "        state=next_state\n",
    "        reward_sum+=reward\n",
    "    return reward_sum\n",
    "test()"
   ],
   "id": "3c12a6c5346c216f",
   "outputs": [
    {
     "data": {
      "text/plain": [
       "15.0"
      ]
     },
     "execution_count": 21,
     "metadata": {},
     "output_type": "execute_result"
    }
   ],
   "execution_count": 21
  },
  {
   "metadata": {
    "ExecuteTime": {
     "end_time": "2025-03-03T13:28:34.460479Z",
     "start_time": "2025-03-03T13:28:09.329313Z"
    }
   },
   "cell_type": "code",
   "source": [
    "def train():\n",
    "    optimizer = torch.optim.Adam(model.parameters(), lr=1e-3)\n",
    "    \n",
    "    for epoch in range(1000):\n",
    "        states,rewards,actions=get_oneGame_data()\n",
    "        optimizer.zero_grad()\n",
    "        rewards_sum=0\n",
    "        total_loss=0\n",
    "        for i in reversed(range(len(states))):\n",
    "            rewards_sum*=0.98\n",
    "            rewards_sum+=rewards[i]\n",
    "            state=torch.FloatTensor(states[i]).reshape(1,4)\n",
    "            \n",
    "            prob=model(state)\n",
    "            prob=prob[0,actions[i]]\n",
    "            \n",
    "            loss=-torch.log(prob)*rewards_sum\n",
    "            total_loss+=loss\n",
    "        total_loss.backward()\n",
    "        optimizer.step()\n",
    "        if (epoch+1) % 100 == 0:\n",
    "            test_result=sum([test() for _ in range(10) ])/10\n",
    "            print('epoch:',epoch,'test_result:',test_result)\n",
    "train()"
   ],
   "id": "b893808211ffdab9",
   "outputs": [
    {
     "name": "stdout",
     "output_type": "stream",
     "text": [
      "epoch: 99 test_result: 43.8\n",
      "epoch: 199 test_result: 52.1\n",
      "epoch: 299 test_result: 157.1\n",
      "epoch: 399 test_result: 187.5\n",
      "epoch: 499 test_result: 166.1\n",
      "epoch: 599 test_result: 200.0\n",
      "epoch: 699 test_result: 200.0\n",
      "epoch: 799 test_result: 153.2\n",
      "epoch: 899 test_result: 108.9\n",
      "epoch: 999 test_result: 196.8\n"
     ]
    }
   ],
   "execution_count": 23
  },
  {
   "metadata": {},
   "cell_type": "code",
   "outputs": [],
   "execution_count": null,
   "source": "",
   "id": "31446a0583724f85"
  }
 ],
 "metadata": {
  "kernelspec": {
   "display_name": "Python 3",
   "language": "python",
   "name": "python3"
  },
  "language_info": {
   "codemirror_mode": {
    "name": "ipython",
    "version": 2
   },
   "file_extension": ".py",
   "mimetype": "text/x-python",
   "name": "python",
   "nbconvert_exporter": "python",
   "pygments_lexer": "ipython2",
   "version": "2.7.6"
  }
 },
 "nbformat": 4,
 "nbformat_minor": 5
}
