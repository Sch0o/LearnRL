{
 "cells": [
  {
   "cell_type": "code",
   "id": "initial_id",
   "metadata": {
    "collapsed": true,
    "ExecuteTime": {
     "end_time": "2025-02-28T13:35:23.369029Z",
     "start_time": "2025-02-28T13:35:23.266934Z"
    }
   },
   "source": [
    "import gymnasium as gym\n",
    "import numpy as np\n",
    "\n",
    "\n",
    "class MyWrapper(gym.Wrapper):\n",
    "    def __init__(self):\n",
    "        env = gym.make('CartPole-v1', render_mode='rgb_array')\n",
    "        super().__init__(env)\n",
    "        self.env = env\n",
    "        self.step_n = 0\n",
    "\n",
    "    def reset(self):\n",
    "        state, _ = self.env.reset()\n",
    "        self.step_n = 0\n",
    "        return state\n",
    "\n",
    "    def step(self, action):\n",
    "        state, reward, terminated, truncated, info = self.env.step(action)\n",
    "        done = terminated or truncated\n",
    "        self.step_n += 1\n",
    "        if self.step_n >= 200:\n",
    "            done = True\n",
    "        return state, reward, done, info\n",
    "\n",
    "\n",
    "env = MyWrapper()\n",
    "env.reset()"
   ],
   "outputs": [
    {
     "data": {
      "text/plain": [
       "array([-0.02065108, -0.00140778, -0.00546424,  0.01308666], dtype=float32)"
      ]
     },
     "execution_count": 1,
     "metadata": {},
     "output_type": "execute_result"
    }
   ],
   "execution_count": 1
  },
  {
   "metadata": {
    "ExecuteTime": {
     "end_time": "2025-02-28T13:49:02.653805Z",
     "start_time": "2025-02-28T13:49:02.592248Z"
    }
   },
   "cell_type": "code",
   "source": [
    "from matplotlib import pyplot as plt\n",
    "\n",
    "\n",
    "def show():\n",
    "    %matplotlib inline\n",
    "    plt.imshow(env.render())\n",
    "    plt.show()\n",
    "    plt.clf()\n",
    "show()"
   ],
   "id": "fcd2c1a9320a6049",
   "outputs": [
    {
     "data": {
      "text/plain": [
       "<Figure size 640x480 with 1 Axes>"
      ],
      "image/png": "[encoded data removed]"
     },
     "metadata": {},
     "output_type": "display_data"
    }
   ],
   "execution_count": 35
  },
  {
   "metadata": {
    "ExecuteTime": {
     "end_time": "2025-02-28T13:35:23.873582Z",
     "start_time": "2025-02-28T13:35:23.869584Z"
    }
   },
   "cell_type": "code",
   "source": [
    "def test_env():\n",
    "    state = env.reset()\n",
    "    print(\"action\", env.action_space.sample(), env.action_space)\n",
    "\n",
    "\n",
    "test_env()\n"
   ],
   "id": "42caf06df5f6441c",
   "outputs": [
    {
     "name": "stdout",
     "output_type": "stream",
     "text": [
      "action 1 Discrete(2)\n"
     ]
    }
   ],
   "execution_count": 3
  },
  {
   "metadata": {
    "ExecuteTime": {
     "end_time": "2025-02-28T13:35:24.993543Z",
     "start_time": "2025-02-28T13:35:23.874134Z"
    }
   },
   "cell_type": "code",
   "source": [
    "import torch\n",
    "\n",
    "target_model = torch.nn.Sequential(torch.nn.Linear(4, 128),\n",
    "                                   torch.nn.ReLU(),\n",
    "                                   torch.nn.Linear(128, 2))\n",
    "eval_model = torch.nn.Sequential(torch.nn.Linear(4, 128),\n",
    "                                 torch.nn.ReLU(),\n",
    "                                 torch.nn.Linear(128, 2))\n",
    "target_model.load_state_dict(eval_model.state_dict())\n",
    "target_model, eval_model\n"
   ],
   "id": "50b2081bf7303e90",
   "outputs": [
    {
     "data": {
      "text/plain": [
       "(Sequential(\n",
       "   (0): Linear(in_features=4, out_features=128, bias=True)\n",
       "   (1): ReLU()\n",
       "   (2): Linear(in_features=128, out_features=2, bias=True)\n",
       " ),\n",
       " Sequential(\n",
       "   (0): Linear(in_features=4, out_features=128, bias=True)\n",
       "   (1): ReLU()\n",
       "   (2): Linear(in_features=128, out_features=2, bias=True)\n",
       " ))"
      ]
     },
     "execution_count": 4,
     "metadata": {},
     "output_type": "execute_result"
    }
   ],
   "execution_count": 4
  },
  {
   "metadata": {
    "ExecuteTime": {
     "end_time": "2025-02-28T13:35:25.000788Z",
     "start_time": "2025-02-28T13:35:24.994536Z"
    }
   },
   "cell_type": "code",
   "source": [
    "import random\n",
    "\n",
    "\n",
    "def get_action(state):\n",
    "    if random.random() < 0.01:\n",
    "        return random.choice([0, 1])\n",
    "    state = torch.FloatTensor(state).reshape(1, 4)\n",
    "    return eval_model(state).argmax().item()\n",
    "\n",
    "\n",
    "get_action([0.0013847, -0.01194451, 0.04260966, 0.00688801])\n",
    "\n"
   ],
   "id": "157d5e38dcc5ac0b",
   "outputs": [
    {
     "data": {
      "text/plain": [
       "0"
      ]
     },
     "execution_count": 5,
     "metadata": {},
     "output_type": "execute_result"
    }
   ],
   "execution_count": 5
  },
  {
   "metadata": {
    "ExecuteTime": {
     "end_time": "2025-02-28T13:35:25.006808Z",
     "start_time": "2025-02-28T13:35:25.001781Z"
    }
   },
   "cell_type": "code",
   "source": [
    "#样本池\n",
    "memory = []\n",
    "\n",
    "\n",
    "def update_date():\n",
    "    add_nums = 200\n",
    "    old_count = len(memory)\n",
    "    while len(memory) - old_count <= add_nums:\n",
    "        #初始化\n",
    "        state = env.reset()\n",
    "        over = False\n",
    "        while not over:\n",
    "            action = get_action(state)\n",
    "            next_state, reward, over, _ = env.step(action)\n",
    "            if over==False:\n",
    "                over=0\n",
    "            else:\n",
    "                over=1\n",
    "            memory.append((state, action, reward, next_state, over))\n",
    "            state = next_state\n",
    "    while len(memory) > 10000:\n",
    "        memory.pop(0)\n"
   ],
   "id": "d5daafef68ea771d",
   "outputs": [],
   "execution_count": 6
  },
  {
   "metadata": {
    "ExecuteTime": {
     "end_time": "2025-02-28T13:35:25.014295Z",
     "start_time": "2025-02-28T13:35:25.006808Z"
    }
   },
   "cell_type": "code",
   "source": [
    "import numpy as np\n",
    "\n",
    "\n",
    "#获取一批样本数据\n",
    "def get_samples():\n",
    "    samples = random.sample(memory, 64)\n",
    "    state = torch.from_numpy(np.array([i[0] for i in samples]).reshape(-1, 4))\n",
    "    action = torch.from_numpy(np.array([i[1] for i in samples]).reshape(-1, 1))\n",
    "    reward = torch.from_numpy(np.array([i[2] for i in samples]).reshape(-1, 1))\n",
    "    next_state = torch.from_numpy(np.array([i[3] for i in samples]).reshape(-1, 4))\n",
    "    over = torch.from_numpy(np.array([i[4] for i in samples]).reshape(-1, 1))\n",
    "\n",
    "    return state, action, reward, next_state, over\n"
   ],
   "id": "2f6d3a9587ee9f2d",
   "outputs": [],
   "execution_count": 7
  },
  {
   "metadata": {
    "ExecuteTime": {
     "end_time": "2025-02-28T13:35:25.021394Z",
     "start_time": "2025-02-28T13:35:25.014295Z"
    }
   },
   "cell_type": "code",
   "source": [
    "#计算模型认为的分数\n",
    "def get_value(state, action):\n",
    "    #state to logits\n",
    "    value = eval_model(state)\n",
    "    value = value.gather(dim=1, index=action)\n",
    "    return value"
   ],
   "id": "fd08aa31a4f1e4aa",
   "outputs": [],
   "execution_count": 8
  },
  {
   "metadata": {
    "ExecuteTime": {
     "end_time": "2025-02-28T13:35:25.029423Z",
     "start_time": "2025-02-28T13:35:25.021394Z"
    }
   },
   "cell_type": "code",
   "source": [
    "#计算真实的分数\n",
    "def get_target_value(reward, next_state, over):\n",
    "    with torch.no_grad():\n",
    "        next_action_value = target_model(next_state)\n",
    "    next_action_value = next_action_value.max(dim=1)[0]\n",
    "    next_action_value = next_action_value.reshape(-1, 1)\n",
    "    next_action_value*=(1-over)\n",
    "    target_value = 0.98 * next_action_value + reward\n",
    "    return target_value"
   ],
   "id": "5bcdc7523d9ed03a",
   "outputs": [],
   "execution_count": 9
  },
  {
   "metadata": {
    "ExecuteTime": {
     "end_time": "2025-02-28T13:35:25.035414Z",
     "start_time": "2025-02-28T13:35:25.030420Z"
    }
   },
   "cell_type": "code",
   "source": [
    "from IPython import display\n",
    "import time\n",
    "%matplotlib inline\n",
    "def test(play):\n",
    "    state=env.reset()\n",
    "    reward_sum=0\n",
    "    over=False\n",
    "    while not over:\n",
    "        action=get_action(state)\n",
    "        state,reward,over,_,=env.step(action)\n",
    "        reward_sum+=reward\n",
    "        if play and random.random() < 0.2:  #跳帧\n",
    "            display.clear_output(wait=True)\n",
    "            show()\n",
    "            time.sleep(1)\n",
    "    return reward_sum"
   ],
   "id": "750a64a7ccedf8d4",
   "outputs": [],
   "execution_count": 10
  },
  {
   "metadata": {
    "ExecuteTime": {
     "end_time": "2025-02-28T13:35:40.879924Z",
     "start_time": "2025-02-28T13:35:25.035414Z"
    }
   },
   "cell_type": "code",
   "source": [
    "def train():\n",
    "    eval_model.train()\n",
    "    optimizer = torch.optim.Adam(eval_model.parameters(), lr=1e-3)\n",
    "    loss_fn = torch.nn.MSELoss()\n",
    "    for epoch in range(100):\n",
    "        update_date()\n",
    "        for i in range(200):\n",
    "            #采样\n",
    "            state, action, reward, next_state, over = get_samples()\n",
    "            #计算一批样本的value和target_value\n",
    "            value = get_value(state, action)\n",
    "            target_value = get_target_value(reward, next_state, over)\n",
    "            #更新参数\n",
    "            loss=loss_fn(value.float(),target_value.float())\n",
    "            optimizer.zero_grad()\n",
    "            loss.backward()\n",
    "            optimizer.step()\n",
    "            \n",
    "            #把eval_model的参数复制给target_model\n",
    "            if (i+1)%10==0:\n",
    "                target_model.load_state_dict(eval_model.state_dict())\n",
    "        if (epoch+1) % 50 == 0:\n",
    "            test_result = sum([test(play=False) for _ in range(20)]) / 20\n",
    "            print(epoch, len(memory), test_result)\n",
    "train()\n",
    "            "
   ],
   "id": "4a2b06d0ca9a5c4",
   "outputs": [
    {
     "name": "stdout",
     "output_type": "stream",
     "text": [
      "49 10000 157.75\n",
      "99 10000 192.6\n"
     ]
    }
   ],
   "execution_count": 11
  }
 ],
 "metadata": {
  "kernelspec": {
   "display_name": "Python 3",
   "language": "python",
   "name": "python3"
  },
  "language_info": {
   "codemirror_mode": {
    "name": "ipython",
    "version": 2
   },
   "file_extension": ".py",
   "mimetype": "text/x-python",
   "name": "python",
   "nbconvert_exporter": "python",
   "pygments_lexer": "ipython2",
   "version": "2.7.6"
  }
 },
 "nbformat": 4,
 "nbformat_minor": 5
}
